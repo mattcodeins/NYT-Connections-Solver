{
 "cells": [
  {
   "cell_type": "code",
   "execution_count": 1,
   "metadata": {},
   "outputs": [],
   "source": [
    "import pandas as pd\n",
    "import csv\n",
    "import spacy\n",
    "nlp = spacy.load(\"en_core_web_sm\")\n",
    "import en_core_web_sm"
   ]
  },
  {
   "cell_type": "code",
   "execution_count": 2,
   "metadata": {},
   "outputs": [
    {
     "name": "stdout",
     "output_type": "stream",
     "text": [
      "292\n",
      "['REALLY', 'LIVERY', 'TIFFANY', 'MIGHTY', 'PRETTY', 'HAPPY', 'BABY', 'DAISY', 'LADY', 'COLONY', 'GOOFY', 'ARMY', 'VERY', 'SKY', 'SHINY', 'NAVY']\n"
     ]
    }
   ],
   "source": [
    "with open(\"data/questions.csv\") as f:\n",
    "    reader = csv.reader(f)\n",
    "    data = list(reader)\n",
    "print(len(data))\n",
    "print(data[0])"
   ]
  },
  {
   "cell_type": "code",
   "execution_count": 3,
   "metadata": {},
   "outputs": [
    {
     "name": "stdout",
     "output_type": "stream",
     "text": [
      "292\n",
      "[\"('ESPECIALLY', ['MIGHTY', 'PRETTY', 'REALLY', 'VERY'])\", \"('DISNEY CHARACTERS', ['DAISY', 'GOOFY', 'HAPPY', 'LADY'])\", \"('KINDS OF BLUE', ['BABY', 'NAVY', 'SKY', 'TIFFANY'])\", '(\\'BODY PARTS PLUS \"Y\"\\', [\\'ARMY\\', \\'COLONY\\', \\'LIVERY\\', \\'SHINY\\'])']\n"
     ]
    }
   ],
   "source": [
    "with open(\"data/answers.csv\") as f:\n",
    "    reader = csv.reader(f)\n",
    "    answers = list(reader)\n",
    "print(len(answers))\n",
    "print(answers[0])"
   ]
  },
  {
   "cell_type": "code",
   "execution_count": 5,
   "metadata": {},
   "outputs": [
    {
     "name": "stdout",
     "output_type": "stream",
     "text": [
      "[('This', 'PRON', 'nsubj'), ('is', 'AUX', 'ROOT'), ('a', 'DET', 'det'), ('sentence', 'NOUN', 'attr'), ('.', 'PUNCT', 'punct')]\n"
     ]
    }
   ],
   "source": [
    "doc = nlp(\"This is a sentence.\")\n",
    "print([(w.text, w.pos_, w.dep_) for w in doc])"
   ]
  }
 ],
 "metadata": {
  "kernelspec": {
   "display_name": "Python 3",
   "language": "python",
   "name": "python3"
  },
  "language_info": {
   "codemirror_mode": {
    "name": "ipython",
    "version": 3
   },
   "file_extension": ".py",
   "mimetype": "text/x-python",
   "name": "python",
   "nbconvert_exporter": "python",
   "pygments_lexer": "ipython3",
   "version": "3.9.10"
  }
 },
 "nbformat": 4,
 "nbformat_minor": 2
}
